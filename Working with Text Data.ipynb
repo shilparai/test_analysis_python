{
 "cells": [
  {
   "cell_type": "code",
   "execution_count": 1,
   "metadata": {},
   "outputs": [],
   "source": [
    "import os\n",
    "import numpy as np\n",
    "import pandas as pd\n",
    "os.chdir('D:/project/dl/Stanford/data/aclImdb')\n",
    "\n",
    "## Data Sources : http://ai.stanford.edu/~amaas/data/sentiment/\n",
    "## download the data\n",
    "\n",
    "from sklearn.datasets import load_files"
   ]
  },
  {
   "cell_type": "code",
   "execution_count": 47,
   "metadata": {},
   "outputs": [
    {
     "data": {
      "text/plain": [
       "'\\nhttp://ai.stanford.edu/~amaas/data/sentiment/\\n\\ndownload the data from above site. train and test both folders has two sub-folders : pos and neg\\npos - > positive review\\nneg - > negative review\\n'"
      ]
     },
     "execution_count": 47,
     "metadata": {},
     "output_type": "execute_result"
    }
   ],
   "source": [
    "\"\"\"\n",
    "http://ai.stanford.edu/~amaas/data/sentiment/\n",
    "\n",
    "download the data from above site. train and test both folders has two sub-folders : pos and neg\n",
    "pos - > positive review\n",
    "neg - > negative review\n",
    "\"\"\""
   ]
  },
  {
   "cell_type": "code",
   "execution_count": 7,
   "metadata": {},
   "outputs": [],
   "source": [
    "# load train data\n",
    "reviews_train = load_files('./train/')\n",
    "text_train, y_train = reviews_train.data, reviews_train.target"
   ]
  },
  {
   "cell_type": "code",
   "execution_count": 8,
   "metadata": {},
   "outputs": [
    {
     "name": "stdout",
     "output_type": "stream",
     "text": [
      "type of text_train: <class 'list'>\n",
      "length of text_train: 25000\n",
      "access text_train[1]: \n",
      "b'Words can\\'t describe how bad this movie is. I can\\'t explain it by writing only. You have too see it for yourself to get at grip of how horrible a movie really can be. Not that I recommend you to do that. There are so many clich\\xc3\\xa9s, mistakes (and all other negative things you can imagine) here that will just make you cry. To start with the technical first, there are a LOT of mistakes regarding the airplane. I won\\'t list them here, but just mention the coloring of the plane. They didn\\'t even manage to show an airliner in the colors of a fictional airline, but instead used a 747 painted in the original Boeing livery. Very bad. The plot is stupid and has been done many times before, only much, much better. There are so many ridiculous moments here that i lost count of it really early. Also, I was on the bad guys\\' side all the time in the movie, because the good guys were so stupid. \"Executive Decision\" should without a doubt be you\\'re choice over this one, even the \"Turbulence\"-movies are better. In fact, every other movie in the world is better than this one.'\n",
      "\n",
      "lable[1]: 0\n",
      "\n",
      "unique label: {0, 1}\n"
     ]
    }
   ],
   "source": [
    "print('type of text_train: {}'.format(type(text_train)))\n",
    "print('length of text_train: {}'.format(len(text_train)))\n",
    "print('access text_train[1]: \\n{}'.format(text_train[1]))\n",
    "print('\\nlable[1]: {}'.format(y_train[1]))\n",
    "print('\\nunique label: {}'.format(set(y_train)))"
   ]
  },
  {
   "cell_type": "code",
   "execution_count": 9,
   "metadata": {},
   "outputs": [
    {
     "name": "stdout",
     "output_type": "stream",
     "text": [
      "Samples per class (training): [12500 12500]\n"
     ]
    }
   ],
   "source": [
    "print('Samples per class (training): {}'.format(np.bincount(y_train)))"
   ]
  },
  {
   "cell_type": "code",
   "execution_count": 10,
   "metadata": {},
   "outputs": [
    {
     "name": "stdout",
     "output_type": "stream",
     "text": [
      "type of text_train: <class 'list'>\n",
      "length of text_train: 25000\n",
      "access text_train[1]: \n",
      "b'Words can\\'t describe how bad this movie is. I can\\'t explain it by writing only. You have too see it for yourself to get at grip of how horrible a movie really can be. Not that I recommend you to do that. There are so many clich\\xc3\\xa9s, mistakes (and all other negative things you can imagine) here that will just make you cry. To start with the technical first, there are a LOT of mistakes regarding the airplane. I won\\'t list them here, but just mention the coloring of the plane. They didn\\'t even manage to show an airliner in the colors of a fictional airline, but instead used a 747 painted in the original Boeing livery. Very bad. The plot is stupid and has been done many times before, only much, much better. There are so many ridiculous moments here that i lost count of it really early. Also, I was on the bad guys\\' side all the time in the movie, because the good guys were so stupid. \"Executive Decision\" should without a doubt be you\\'re choice over this one, even the \"Turbulence\"-movies are better. In fact, every other movie in the world is better than this one.'\n",
      "\n",
      "lable[1]: 0\n",
      "\n",
      "unique label: {0, 1}\n"
     ]
    }
   ],
   "source": [
    "## load test data\n",
    "reviews_test = load_files('./test/')\n",
    "text_test, y_test = reviews_test.data, reviews_test.target\n",
    "print('type of text_train: {}'.format(type(text_train)))\n",
    "print('length of text_train: {}'.format(len(text_train)))\n",
    "print('access text_train[1]: \\n{}'.format(text_train[1]))\n",
    "print('\\nlable[1]: {}'.format(y_train[1]))\n",
    "print('\\nunique label: {}'.format(set(y_train)))"
   ]
  },
  {
   "cell_type": "code",
   "execution_count": 38,
   "metadata": {},
   "outputs": [
    {
     "name": "stdout",
     "output_type": "stream",
     "text": [
      "Vocabulary size: 17\n",
      "Vocabulary content:\n",
      " {'in': 4, 'fact': 3, 'every': 2, 'other': 10, 'movie': 7, 'the': 12, 'world': 15, 'is': 5, 'better': 1, 'than': 11, 'this': 13, 'one': 9, 'would': 16, 'not': 8, 'watch': 14, 'it': 6, 'again': 0}\n"
     ]
    }
   ],
   "source": [
    "'''\n",
    "Computing bag of words for a corpus of documents,consists of following steps:\n",
    "\n",
    "1. Tokenization- split each documents into the words\n",
    "2. Vocabulary building \n",
    "3. Encoding - for each document,count how often each of the words appear in the document\n",
    "\n",
    "Below simple example to explain bag of words method\n",
    "'''\n",
    "\n",
    "sentence = ['In fact, every other movie in the world is better than this one. I would not watch it again']\n",
    "\n",
    "from sklearn.feature_extraction.text import CountVectorizer\n",
    "vector = CountVectorizer()\n",
    "vector.fit(sentence)\n",
    "\n",
    "print('Vocabulary size: {}'.format(len(vector.vocabulary_)))\n",
    "print('Vocabulary content:\\n {}'.format(vector.vocabulary_))"
   ]
  },
  {
   "cell_type": "code",
   "execution_count": 40,
   "metadata": {},
   "outputs": [
    {
     "name": "stdout",
     "output_type": "stream",
     "text": [
      "bag_of_words: <1x17 sparse matrix of type '<class 'numpy.int64'>'\n",
      "\twith 17 stored elements in Compressed Sparse Row format>\n"
     ]
    }
   ],
   "source": [
    "bag_of_words = vector.transform(sentence)\n",
    "print('bag_of_words: {}'.format(repr(bag_of_words))) # difference between str() and repr() if we print string using repr() \n",
    "# function then it prints with a pair of quotes and if we calculate a value we get more precise value than str() function."
   ]
  },
  {
   "cell_type": "code",
   "execution_count": 41,
   "metadata": {},
   "outputs": [
    {
     "name": "stdout",
     "output_type": "stream",
     "text": [
      "X_train: \n",
      " <25000x74849 sparse matrix of type '<class 'numpy.int64'>'\n",
      "\twith 3445861 stored elements in Compressed Sparse Row format>\n"
     ]
    }
   ],
   "source": [
    "vect = CountVectorizer().fit(text_train)\n",
    "X_train = vect.transform(text_train)\n",
    "print('X_train: \\n {}'.format(repr(X_train)))"
   ]
  },
  {
   "cell_type": "code",
   "execution_count": 43,
   "metadata": {},
   "outputs": [
    {
     "name": "stdout",
     "output_type": "stream",
     "text": [
      "Number of features: 74849\n",
      "\n",
      "First 10 features: ['00', '000', '0000000000001', '00001', '00015', '000s', '001', '003830', '006', '007', '0079', '0080', '0083', '0093638', '00am', '00pm', '00s', '01', '01pm', '02']\n",
      "\n",
      "Every 5000th features: ['00', 'augustine', 'bête', 'cost', 'draper', 'fleece', 'hasan', 'jardine', 'maars', 'nathaniel', 'pincher', 'replica', 'shunning', 'swordmen', 'unproven']\n"
     ]
    }
   ],
   "source": [
    "features_name = vect.get_feature_names()\n",
    "print('Number of features: {}'.format(len(features_name)))\n",
    "print('\\nFirst 10 features: {}'.format(features_name[:20]))\n",
    "print('\\nEvery 5000th features: {}'.format(features_name[::5000]))\n"
   ]
  },
  {
   "cell_type": "code",
   "execution_count": 44,
   "metadata": {},
   "outputs": [
    {
     "name": "stdout",
     "output_type": "stream",
     "text": [
      "Mean cross validation accuracy: 0.88\n"
     ]
    }
   ],
   "source": [
    "## let's fit model without any other cleaning process\n",
    "from sklearn.model_selection import cross_val_score\n",
    "from sklearn.linear_model import LogisticRegression\n",
    "\n",
    "scores = cross_val_score(LogisticRegression(), X_train, y_train, cv=5)\n",
    "print('Mean cross validation accuracy: {:.2f}'.format(np.mean(scores)))"
   ]
  },
  {
   "cell_type": "code",
   "execution_count": 50,
   "metadata": {},
   "outputs": [
    {
     "name": "stdout",
     "output_type": "stream",
     "text": [
      "Best cross-validation score: 0.89\n",
      "Best parameters:  {'C': 0.1}\n",
      " test score: 0.88\n"
     ]
    }
   ],
   "source": [
    "## Predict sentiment for test data\n",
    "from sklearn.model_selection import GridSearchCV\n",
    "param_grid = {'C': [0.001, 0.01, 0.1, 1,10]}\n",
    "grid = GridSearchCV(LogisticRegression(), param_grid, cv=5)\n",
    "grid.fit(X_train,y_train)\n",
    "\n",
    "print('Best cross-validation score: {:.2f}'.format(grid.best_score_))\n",
    "print('Best parameters: ', grid.best_params_)\n",
    "\n",
    "X_test = vect.transform(text_test)\n",
    "print(\" test score: {:.2f}\".format(grid.score(X_test,y_test)))"
   ]
  }
 ],
 "metadata": {
  "kernelspec": {
   "display_name": "Python 3",
   "language": "python",
   "name": "python3"
  },
  "language_info": {
   "codemirror_mode": {
    "name": "ipython",
    "version": 3
   },
   "file_extension": ".py",
   "mimetype": "text/x-python",
   "name": "python",
   "nbconvert_exporter": "python",
   "pygments_lexer": "ipython3",
   "version": "3.6.6"
  }
 },
 "nbformat": 4,
 "nbformat_minor": 2
}
